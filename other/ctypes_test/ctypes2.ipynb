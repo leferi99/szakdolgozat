{
 "cells": [
  {
   "cell_type": "code",
   "execution_count": null,
   "metadata": {},
   "outputs": [],
   "source": [
    "from ctypes import cdll\n",
    "lib = cdll.LoadLibrary('./libfoo.so')\n",
    "\n",
    "class Foo(object):\n",
    "    def __init__(self):\n",
    "        self.obj = lib.Foo_new()\n",
    "\n",
    "    def bar(self):\n",
    "        lib.Foo_bar(self.obj)"
   ]
  },
  {
   "cell_type": "code",
   "execution_count": null,
   "metadata": {},
   "outputs": [],
   "source": [
    "import ctypes\n",
    "lib1 = ctypes.cdll.LoadLibrary('/full/path/to/lib1.so')\n",
    "## To use a function from the library:\n",
    "lib1.cfunction1()\n",
    "\n",
    "## One can also write a .py wrapper"
   ]
  }
 ],
 "metadata": {
  "kernelspec": {
   "display_name": "Python 3",
   "language": "python",
   "name": "python3"
  },
  "language_info": {
   "codemirror_mode": {
    "name": "ipython",
    "version": 3
   },
   "file_extension": ".py",
   "mimetype": "text/x-python",
   "name": "python",
   "nbconvert_exporter": "python",
   "pygments_lexer": "ipython3",
   "version": "3.8.5"
  }
 },
 "nbformat": 4,
 "nbformat_minor": 4
}
