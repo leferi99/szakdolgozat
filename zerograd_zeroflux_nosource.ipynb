{
 "cells": [
  {
   "cell_type": "code",
   "execution_count": 55,
   "metadata": {},
   "outputs": [],
   "source": [
    "from fipy import CellVariable, Grid1D, DiffusionTerm, PowerLawConvectionTerm, Viewer\n",
    "from fipy.tools import numerix"
   ]
  },
  {
   "cell_type": "code",
   "execution_count": 56,
   "metadata": {},
   "outputs": [],
   "source": [
    "diffCoeff = 1.  # diffúziós és konvekciós együtthatók\n",
    "convCoeff = (10.,)  # a vessző miatt ez egy vektor\n",
    "\n",
    "L = 10.  # teljes hossz, amire lefut a program\n",
    "nx = 100  # ennyi részre lesz felosztva\n",
    "mesh = Grid1D(dx=L / nx, nx=nx)  # új mesh nx számú dx széles lépésközzel"
   ]
  },
  {
   "cell_type": "code",
   "execution_count": 57,
   "metadata": {},
   "outputs": [],
   "source": [
    "valueLeft = (0.,)  # határfeltételekhez adatok\n",
    "valueRight = 0.\n",
    "\n",
    "var = CellVariable(mesh=mesh, name=\"variable\")  # \"megoldási változó\" - ez lesz a sűrűségfv\n",
    "\n",
    "var.faceGrad.constrain(valueLeft, where=mesh.facesLeft)  # határfeltételek érvényesítése\n",
    "var.constrain(valueRight, mesh.facesRight)"
   ]
  },
  {
   "cell_type": "code",
   "execution_count": 58,
   "metadata": {},
   "outputs": [
    {
     "name": "stderr",
     "output_type": "stream",
     "text": [
      "C:\\ProgramData\\Anaconda3\\lib\\site-packages\\fipy\\solvers\\scipy\\linearLUSolver.py:41: RuntimeWarning: invalid value encountered in double_scalars\n",
      "  if (numerix.sqrt(numerix.sum(errorVector**2)) / error0)  <= self.tolerance:\n"
     ]
    }
   ],
   "source": [
    "eq = (DiffusionTerm(coeff=diffCoeff)  # az egyenlet alakja FiPy-ban az együtthatókkal\n",
    "      + PowerLawConvectionTerm(coeff=convCoeff))\n",
    "\n",
    "eq.solve(var=var)  # az egyenlet megoldása \"var\"-ra a megadott együtthatókkal"
   ]
  },
  {
   "cell_type": "code",
   "execution_count": 54,
   "metadata": {},
   "outputs": [
    {
     "data": {
      "image/png": "[encoded data removed]",
      "text/plain": [
       "<fipy.viewers.matplotlibViewer.matplotlib1DViewer.Matplotlib1DViewer at 0x23084b29730>"
      ]
     },
     "metadata": {},
     "output_type": "display_data"
    },
    {
     "data": {
      "image/png": "[encoded data removed]",
      "text/plain": [
       "<Figure size 288x288 with 1 Axes>"
      ]
     },
     "metadata": {
      "needs_background": "light"
     },
     "output_type": "display_data"
    }
   ],
   "source": [
    "viewer = Viewer(vars=var)\n",
    "viewer.plot()"
   ]
  },
  {
   "cell_type": "code",
   "execution_count": null,
   "metadata": {},
   "outputs": [],
   "source": []
  }
 ],
 "metadata": {
  "kernelspec": {
   "display_name": "Python 3",
   "language": "python",
   "name": "python3"
  },
  "language_info": {
   "codemirror_mode": {
    "name": "ipython",
    "version": 3
   },
   "file_extension": ".py",
   "mimetype": "text/x-python",
   "name": "python",
   "nbconvert_exporter": "python",
   "pygments_lexer": "ipython3",
   "version": "3.8.5"
  }
 },
 "nbformat": 4,
 "nbformat_minor": 4
}
