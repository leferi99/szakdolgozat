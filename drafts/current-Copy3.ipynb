{
 "cells": [
  {
   "cell_type": "markdown",
   "metadata": {},
   "source": [
    "# PDE megoldó FiPy csomaggal\n",
    "\n",
    "\n",
    "A következő package-ek szükségesek:\n",
    "- future\n",
    "- fipy\n",
    "- numpy\n",
    "- matplotlib\n",
    "- scipy"
   ]
  },
  {
   "cell_type": "markdown",
   "metadata": {},
   "source": [
    "### Importálások"
   ]
  },
  {
   "cell_type": "code",
   "execution_count": 17,
   "metadata": {},
   "outputs": [],
   "source": [
    "from fipy import *\n",
    "from fipy.tools import numerix\n",
    "import matplotlib.pyplot as plt"
   ]
  },
  {
   "cell_type": "markdown",
   "metadata": {},
   "source": [
    "A megoldandó differenciálegyenlet alakja:\n",
    "\n",
    "$$ \\frac{\\partial f(r,t)}{\\partial t}=D\\frac{\\partial^2 f(r,t)}{\\partial r^2}-K\\frac{\\partial f(r,t)}{\\partial r}+S $$"
   ]
  },
  {
   "cell_type": "code",
   "execution_count": 18,
   "metadata": {},
   "outputs": [
    {
     "name": "stdout",
     "output_type": "stream",
     "text": [
      "101\n"
     ]
    }
   ],
   "source": [
    "R = 10.  ## teljes hossz, amire lefut a program\n",
    "nr = 20  ## ennyi részre lesz felosztva\n",
    "dr = R / nr\n",
    "mesh = Grid1D(dx=dr, nx=nr)  ## új mesh nr számú dr széles lépésközzel\n",
    "\n",
    "## diffúziós-, konvekciós- és forrásegyütthatók (D, K, S)\n",
    "diffCoeff = 1.\n",
    "convCoeff = [1.,]\n",
    "sourceCoeff = 1.\n",
    "\n",
    "## idő bevezetése\n",
    "duration = Variable(10.)\n",
    "dt = Variable(0.1)\n",
    "t = Variable(0.)\n",
    "imax = int((duration.value / dt.value) + 1)\n",
    "i = 0\n",
    "print(imax)\n",
    "\n",
    "## határfeltételekhez adatok\n",
    "valueLeft = 1.\n",
    "gradLeft = (0.,)\n",
    "valueRight = 0.\n",
    "\n",
    "## \"megoldási változó\" - sűrűségfv\n",
    "f = CellVariable(mesh=mesh, name=\"sűrűségfv\", value=1.) # kezdeti feltétel az egész tartományra\n",
    "f.setValue(10., where= mesh.x == R/2)\n",
    "\n",
    "## határfeltételek érvényesítése\n",
    "f.constrain(valueLeft, mesh.facesLeft)\n",
    "f.faceGrad.constrain(gradLeft, where=mesh.facesLeft)\n",
    "f.constrain(valueRight, mesh.facesRight)"
   ]
  },
  {
   "cell_type": "markdown",
   "metadata": {},
   "source": [
    "### A kezdeti feltételek megadása\n",
    "\n",
    "A CellVariable inicializálásakor meg lehet adni az egész tartományra vonatkozó, vagy a tartomány részeire vonatkozó kezdeti feltételeket is. ld.: https://www.ctcms.nist.gov/fipy/examples/diffusion/generated/examples.diffusion.mesh1D.html\n",
    "\n",
    "Kódrészletként kikommentelve, hogy a notebook futtatásakor ne okozzon problémát:"
   ]
  },
  {
   "cell_type": "code",
   "execution_count": 19,
   "metadata": {},
   "outputs": [],
   "source": [
    "## phi.value = 0.\n",
    "## phi.setValue(1., where=(x > L/2. - L/10.) & (x < L/2. + L/10.))"
   ]
  },
  {
   "cell_type": "markdown",
   "metadata": {},
   "source": [
    "### Az egyenlet, annak megoldása és az eredmények ábrázolása\n",
    "\n",
    "Ellenőrzést számértékileg is végzek, de a grafikonokon látható, hogy a dinamikus lista minden eleme felveszi f() legújabb értékét, ami nem az elvárt működés.\n",
    "\n",
    "Megfigyelhető továbbá, hogy a következő cellában az 5 helyett 2-szer futtatva a megoldót, teljesen más eredményt kapunk, viszont az eredmények listában tárolása továbbra sem működik.\n",
    "\n",
    "Az utolsó cellában numpy.array()-ben tárolva a megjelenítési nehézségek miatt sem működik az elvártaknak megfelelően a program."
   ]
  },
  {
   "cell_type": "code",
   "execution_count": 20,
   "metadata": {},
   "outputs": [
    {
     "name": "stdout",
     "output_type": "stream",
     "text": [
      "[1.23907828 1.55247536 1.80399661 1.99897825 2.14568561 2.25329304\n",
      " 2.33051984 2.38490443 2.4225423  2.44809118 2.46487237 2.47491527\n",
      " 2.4787649  2.47476183 2.45725211 2.41271353 2.31200594 2.0958268\n",
      " 1.64899325 0.75702055]\n",
      "[1.23907828 1.55247536 1.80399661 1.99897825 2.14568561 2.25329304\n",
      " 2.33051984 2.38490443 2.4225423  2.44809118 2.46487237 2.47491527\n",
      " 2.4787649  2.47476183 2.45725211 2.41271353 2.31200594 2.0958268\n",
      " 1.64899325 0.75702055]\n"
     ]
    },
    {
     "name": "stderr",
     "output_type": "stream",
     "text": [
      "C:\\ProgramData\\Anaconda3\\lib\\site-packages\\fipy\\viewers\\matplotlibViewer\\__init__.py:120: UserWarning: Matplotlib1DViewer efficiency is improved by setting the 'datamax' and 'datamin' keys\n",
      "  return Matplotlib1DViewer(vars=vars, title=title, axes=axes, **kwlimits)\n",
      "C:\\ProgramData\\Anaconda3\\lib\\site-packages\\fipy\\viewers\\matplotlibViewer\\__init__.py:120: UserWarning: Matplotlib1DViewer efficiency is improved by setting the 'datamax' and 'datamin' keys\n",
      "  return Matplotlib1DViewer(vars=vars, title=title, axes=axes, **kwlimits)\n"
     ]
    },
    {
     "data": {
      "image/png": "[encoded data removed]",
      "text/plain": [
       "<Figure size 288x288 with 1 Axes>"
      ]
     },
     "metadata": {
      "needs_background": "light"
     },
     "output_type": "display_data"
    },
    {
     "data": {
      "image/png": "[encoded data removed]",
      "text/plain": [
       "<Figure size 288x288 with 1 Axes>"
      ]
     },
     "metadata": {
      "needs_background": "light"
     },
     "output_type": "display_data"
    }
   ],
   "source": [
    "## az egyenlet alakja FiPy-ban az együtthatókkal\n",
    "eq = (TransientTerm() == DiffusionTerm(coeff=diffCoeff)\n",
    "      - PowerLawConvectionTerm(coeff=convCoeff)\n",
    "      + sourceCoeff)\n",
    "\n",
    "# solution1D = numerix.empty(imax, CellVariable)  # 1D üres numpy array\n",
    "solution1D = []  # 1D üres dinamikus lista\n",
    "\n",
    "\n",
    "t = t + dt\n",
    "eq.solve(var=f, solver=DummySolver(), dt=t)\n",
    "solution1D.append(f)\n",
    "\n",
    "t = t + dt\n",
    "eq.solve(var=f, solver=DummySolver(), dt=t)\n",
    "solution1D.append(f)\n",
    "\n",
    "t = t + dt\n",
    "eq.solve(var=f, solver=DummySolver(), dt=t)\n",
    "solution1D.append(f)\n",
    "\n",
    "t = t + dt\n",
    "eq.solve(var=f, solver=DummySolver(), dt=t)\n",
    "solution1D.append(f)\n",
    "\n",
    "t = t + dt\n",
    "eq.solve(var=f, solver=DummySolver(), dt=t)\n",
    "solution1D.append(f)\n",
    "\n",
    "print(solution1D[0].value)\n",
    "print(solution1D[1].value)\n",
    "viewer = Viewer(vars=f)\n",
    "viewer = Viewer(vars=solution1D)\n",
    "\n",
    "#viewer1 = Viewer(vars=solution2D[1])\n",
    "#viewer2 = Viewer(vars=solution2D[99])"
   ]
  },
  {
   "cell_type": "code",
   "execution_count": 21,
   "metadata": {},
   "outputs": [
    {
     "name": "stdout",
     "output_type": "stream",
     "text": [
      "[1.14519657 1.2566519  1.28815869 1.29681359 1.29914771 1.29976568\n",
      " 1.29991767 1.29993045 1.29987036 1.29970735 1.29932345 1.29843408\n",
      " 1.29638344 1.29167793 1.28095539 1.25677885 1.20315768 1.08734924\n",
      " 0.84832897 0.39556772]\n",
      "[1.14519657 1.2566519  1.28815869 1.29681359 1.29914771 1.29976568\n",
      " 1.29991767 1.29993045 1.29987036 1.29970735 1.29932345 1.29843408\n",
      " 1.29638344 1.29167793 1.28095539 1.25677885 1.20315768 1.08734924\n",
      " 0.84832897 0.39556772]\n"
     ]
    },
    {
     "name": "stderr",
     "output_type": "stream",
     "text": [
      "C:\\ProgramData\\Anaconda3\\lib\\site-packages\\fipy\\viewers\\matplotlibViewer\\__init__.py:120: UserWarning: Matplotlib1DViewer efficiency is improved by setting the 'datamax' and 'datamin' keys\n",
      "  return Matplotlib1DViewer(vars=vars, title=title, axes=axes, **kwlimits)\n",
      "C:\\ProgramData\\Anaconda3\\lib\\site-packages\\fipy\\viewers\\matplotlibViewer\\__init__.py:120: UserWarning: Matplotlib1DViewer efficiency is improved by setting the 'datamax' and 'datamin' keys\n",
      "  return Matplotlib1DViewer(vars=vars, title=title, axes=axes, **kwlimits)\n"
     ]
    },
    {
     "data": {
      "image/png": "[encoded data removed]",
      "text/plain": [
       "<Figure size 288x288 with 1 Axes>"
      ]
     },
     "metadata": {
      "needs_background": "light"
     },
     "output_type": "display_data"
    },
    {
     "data": {
      "image/png": "[encoded data removed]",
      "text/plain": [
       "<Figure size 288x288 with 1 Axes>"
      ]
     },
     "metadata": {
      "needs_background": "light"
     },
     "output_type": "display_data"
    }
   ],
   "source": [
    "R = 10.  ## teljes hossz, amire lefut a program\n",
    "nr = 20  ## ennyi részre lesz felosztva\n",
    "dr = R / nr\n",
    "mesh = Grid1D(dx=dr, nx=nr)  ## új mesh nr számú dr széles lépésközzel\n",
    "\n",
    "## diffúziós-, konvekciós- és forrásegyütthatók\n",
    "diffCoeff = 1.\n",
    "convCoeff = [1.,]\n",
    "sourceCoeff = 1.\n",
    "\n",
    "## idő bevezetése\n",
    "duration = Variable(10.)\n",
    "dt = Variable(0.1)\n",
    "t = Variable(0.)\n",
    "imax = int((duration.value / dt.value) + 1)\n",
    "i = 0\n",
    "\n",
    "## határfeltételekhez adatok\n",
    "valueLeft = 1.\n",
    "gradLeft = (0.,)\n",
    "valueRight = 0.\n",
    "\n",
    "## \"megoldási változó\" - sűrűségfv\n",
    "f = CellVariable(mesh=mesh, name=\"sűrűségfv\", value=1.) # kezdeti feltétel az egész tartományra\n",
    "f.setValue(10., where= mesh.x == R/2)\n",
    "\n",
    "## határfeltételek érvényesítése\n",
    "f.constrain(valueLeft, mesh.facesLeft)\n",
    "f.faceGrad.constrain(gradLeft, where=mesh.facesLeft)\n",
    "f.constrain(valueRight, mesh.facesRight)\n",
    "\n",
    "## az egyenlet alakja FiPy-ban az együtthatókkal\n",
    "eq = (TransientTerm() == DiffusionTerm(coeff=diffCoeff)\n",
    "      + PowerLawConvectionTerm(coeff=convCoeff)\n",
    "      + sourceCoeff)\n",
    "\n",
    "# solution1D = numerix.empty(imax, CellVariable)  # 1D üres numpy array\n",
    "solution1D = []  # 1D üres dinamikus lista\n",
    "\n",
    "\n",
    "t = t + dt\n",
    "eq.solve(var=f, solver=DummySolver(), dt=t)\n",
    "solution1D.append(f)\n",
    "\n",
    "t = t + dt\n",
    "eq.solve(var=f, solver=DummySolver(), dt=t)\n",
    "solution1D.append(f)\n",
    "\n",
    "\n",
    "print(solution1D[0].value)\n",
    "print(solution1D[1].value)\n",
    "viewer = Viewer(vars=f)\n",
    "viewer = Viewer(vars=solution1D)"
   ]
  },
  {
   "cell_type": "code",
   "execution_count": 22,
   "metadata": {},
   "outputs": [
    {
     "name": "stdout",
     "output_type": "stream",
     "text": [
      "[1.14519657 1.2566519  1.28815869 1.29681359 1.29914771 1.29976568\n",
      " 1.29991767 1.29993045 1.29987036 1.29970735 1.29932345 1.29843408\n",
      " 1.29638344 1.29167793 1.28095539 1.25677885 1.20315768 1.08734924\n",
      " 0.84832897 0.39556772]\n",
      "[1.14519657 1.2566519  1.28815869 1.29681359 1.29914771 1.29976568\n",
      " 1.29991767 1.29993045 1.29987036 1.29970735 1.29932345 1.29843408\n",
      " 1.29638344 1.29167793 1.28095539 1.25677885 1.20315768 1.08734924\n",
      " 0.84832897 0.39556772]\n"
     ]
    },
    {
     "name": "stderr",
     "output_type": "stream",
     "text": [
      "C:\\ProgramData\\Anaconda3\\lib\\site-packages\\fipy\\viewers\\matplotlibViewer\\__init__.py:120: UserWarning: Matplotlib1DViewer efficiency is improved by setting the 'datamax' and 'datamin' keys\n",
      "  return Matplotlib1DViewer(vars=vars, title=title, axes=axes, **kwlimits)\n"
     ]
    },
    {
     "ename": "AttributeError",
     "evalue": "'numpy.ndarray' object has no attribute 'mesh'",
     "output_type": "error",
     "traceback": [
      "\u001b[1;31m---------------------------------------------------------------------------\u001b[0m",
      "\u001b[1;31mAttributeError\u001b[0m                            Traceback (most recent call last)",
      "\u001b[1;32m<ipython-input-22-ca7ef2bfcf27>\u001b[0m in \u001b[0;36m<module>\u001b[1;34m\u001b[0m\n\u001b[0;32m     52\u001b[0m \u001b[0mprint\u001b[0m\u001b[1;33m(\u001b[0m\u001b[0msolution\u001b[0m\u001b[1;33m[\u001b[0m\u001b[1;36m1\u001b[0m\u001b[1;33m]\u001b[0m\u001b[1;33m.\u001b[0m\u001b[0mvalue\u001b[0m\u001b[1;33m)\u001b[0m\u001b[1;33m\u001b[0m\u001b[1;33m\u001b[0m\u001b[0m\n\u001b[0;32m     53\u001b[0m \u001b[0mviewer\u001b[0m \u001b[1;33m=\u001b[0m \u001b[0mViewer\u001b[0m\u001b[1;33m(\u001b[0m\u001b[0mvars\u001b[0m\u001b[1;33m=\u001b[0m\u001b[0mf\u001b[0m\u001b[1;33m)\u001b[0m\u001b[1;33m\u001b[0m\u001b[1;33m\u001b[0m\u001b[0m\n\u001b[1;32m---> 54\u001b[1;33m \u001b[0mviewer\u001b[0m \u001b[1;33m=\u001b[0m \u001b[0mViewer\u001b[0m\u001b[1;33m(\u001b[0m\u001b[0mvars\u001b[0m\u001b[1;33m=\u001b[0m\u001b[0msolution\u001b[0m\u001b[1;33m)\u001b[0m\u001b[1;33m\u001b[0m\u001b[1;33m\u001b[0m\u001b[0m\n\u001b[0m",
      "\u001b[1;32mC:\\ProgramData\\Anaconda3\\lib\\site-packages\\fipy\\viewers\\__init__.py\u001b[0m in \u001b[0;36mViewer\u001b[1;34m(vars, title, limits, FIPY_VIEWER, **kwlimits)\u001b[0m\n\u001b[0;32m     90\u001b[0m     \u001b[0mviewers\u001b[0m \u001b[1;33m=\u001b[0m \u001b[1;33m[\u001b[0m\u001b[1;33m]\u001b[0m\u001b[1;33m\u001b[0m\u001b[1;33m\u001b[0m\u001b[0m\n\u001b[0;32m     91\u001b[0m \u001b[1;33m\u001b[0m\u001b[0m\n\u001b[1;32m---> 92\u001b[1;33m     \u001b[0memptyvars\u001b[0m \u001b[1;33m=\u001b[0m \u001b[1;33m[\u001b[0m\u001b[0mvar\u001b[0m \u001b[1;32mfor\u001b[0m \u001b[0mvar\u001b[0m \u001b[1;32min\u001b[0m \u001b[0mvars\u001b[0m \u001b[1;32mif\u001b[0m \u001b[0mvar\u001b[0m\u001b[1;33m.\u001b[0m\u001b[0mmesh\u001b[0m\u001b[1;33m.\u001b[0m\u001b[0mnumberOfCells\u001b[0m \u001b[1;33m==\u001b[0m \u001b[1;36m0\u001b[0m\u001b[1;33m]\u001b[0m\u001b[1;33m\u001b[0m\u001b[1;33m\u001b[0m\u001b[0m\n\u001b[0m\u001b[0;32m     93\u001b[0m     \u001b[0mvars\u001b[0m \u001b[1;33m=\u001b[0m \u001b[1;33m[\u001b[0m\u001b[0mvar\u001b[0m \u001b[1;32mfor\u001b[0m \u001b[0mvar\u001b[0m \u001b[1;32min\u001b[0m \u001b[0mvars\u001b[0m \u001b[1;32mif\u001b[0m \u001b[0mvar\u001b[0m\u001b[1;33m.\u001b[0m\u001b[0mmesh\u001b[0m\u001b[1;33m.\u001b[0m\u001b[0mnumberOfCells\u001b[0m \u001b[1;33m>\u001b[0m \u001b[1;36m0\u001b[0m\u001b[1;33m]\u001b[0m\u001b[1;33m\u001b[0m\u001b[1;33m\u001b[0m\u001b[0m\n\u001b[0;32m     94\u001b[0m \u001b[1;33m\u001b[0m\u001b[0m\n",
      "\u001b[1;32mC:\\ProgramData\\Anaconda3\\lib\\site-packages\\fipy\\viewers\\__init__.py\u001b[0m in \u001b[0;36m<listcomp>\u001b[1;34m(.0)\u001b[0m\n\u001b[0;32m     90\u001b[0m     \u001b[0mviewers\u001b[0m \u001b[1;33m=\u001b[0m \u001b[1;33m[\u001b[0m\u001b[1;33m]\u001b[0m\u001b[1;33m\u001b[0m\u001b[1;33m\u001b[0m\u001b[0m\n\u001b[0;32m     91\u001b[0m \u001b[1;33m\u001b[0m\u001b[0m\n\u001b[1;32m---> 92\u001b[1;33m     \u001b[0memptyvars\u001b[0m \u001b[1;33m=\u001b[0m \u001b[1;33m[\u001b[0m\u001b[0mvar\u001b[0m \u001b[1;32mfor\u001b[0m \u001b[0mvar\u001b[0m \u001b[1;32min\u001b[0m \u001b[0mvars\u001b[0m \u001b[1;32mif\u001b[0m \u001b[0mvar\u001b[0m\u001b[1;33m.\u001b[0m\u001b[0mmesh\u001b[0m\u001b[1;33m.\u001b[0m\u001b[0mnumberOfCells\u001b[0m \u001b[1;33m==\u001b[0m \u001b[1;36m0\u001b[0m\u001b[1;33m]\u001b[0m\u001b[1;33m\u001b[0m\u001b[1;33m\u001b[0m\u001b[0m\n\u001b[0m\u001b[0;32m     93\u001b[0m     \u001b[0mvars\u001b[0m \u001b[1;33m=\u001b[0m \u001b[1;33m[\u001b[0m\u001b[0mvar\u001b[0m \u001b[1;32mfor\u001b[0m \u001b[0mvar\u001b[0m \u001b[1;32min\u001b[0m \u001b[0mvars\u001b[0m \u001b[1;32mif\u001b[0m \u001b[0mvar\u001b[0m\u001b[1;33m.\u001b[0m\u001b[0mmesh\u001b[0m\u001b[1;33m.\u001b[0m\u001b[0mnumberOfCells\u001b[0m \u001b[1;33m>\u001b[0m \u001b[1;36m0\u001b[0m\u001b[1;33m]\u001b[0m\u001b[1;33m\u001b[0m\u001b[1;33m\u001b[0m\u001b[0m\n\u001b[0;32m     94\u001b[0m \u001b[1;33m\u001b[0m\u001b[0m\n",
      "\u001b[1;31mAttributeError\u001b[0m: 'numpy.ndarray' object has no attribute 'mesh'"
     ]
    },
    {
     "data": {
      "image/png": "[encoded data removed]",
      "text/plain": [
       "<Figure size 288x288 with 1 Axes>"
      ]
     },
     "metadata": {
      "needs_background": "light"
     },
     "output_type": "display_data"
    }
   ],
   "source": [
    "R = 10.  ## teljes hossz, amire lefut a program\n",
    "nr = 20  ## ennyi részre lesz felosztva\n",
    "dr = R / nr\n",
    "mesh = Grid1D(dx=dr, nx=nr)  ## új mesh nr számú dr széles lépésközzel\n",
    "\n",
    "## diffúziós-, konvekciós- és forrásegyütthatók\n",
    "diffCoeff = 1.\n",
    "convCoeff = [1.,]\n",
    "sourceCoeff = 1.\n",
    "\n",
    "## idő bevezetése\n",
    "duration = Variable(10.)\n",
    "dt = Variable(0.1)\n",
    "t = Variable(0.)\n",
    "imax = int((duration.value / dt.value) + 1)\n",
    "i = 0\n",
    "\n",
    "## határfeltételekhez adatok\n",
    "valueLeft = 1.\n",
    "gradLeft = (0.,)\n",
    "valueRight = 0.\n",
    "\n",
    "## \"megoldási változó\" - sűrűségfv\n",
    "f = CellVariable(mesh=mesh, name=\"sűrűségfv\", value=1.) # kezdeti feltétel az egész tartományra\n",
    "f.setValue(10., where= mesh.x == R/2)\n",
    "\n",
    "## határfeltételek érvényesítése\n",
    "f.constrain(valueLeft, mesh.facesLeft)\n",
    "f.faceGrad.constrain(gradLeft, where=mesh.facesLeft)\n",
    "f.constrain(valueRight, mesh.facesRight)\n",
    "\n",
    "## az egyenlet alakja FiPy-ban az együtthatókkal\n",
    "eq = (TransientTerm() == DiffusionTerm(coeff=diffCoeff)\n",
    "      + PowerLawConvectionTerm(coeff=convCoeff)\n",
    "      + sourceCoeff)\n",
    "\n",
    "solution = numerix.empty(imax, CellVariable)  # 1D üres numpy array\n",
    "# solution1D = []  # 1D üres dinamikus lista\n",
    "\n",
    "\n",
    "t = t + dt\n",
    "eq.solve(var=f, solver=DummySolver(), dt=t)\n",
    "solution[i] = f\n",
    "\n",
    "t = t + dt\n",
    "i += 1\n",
    "eq.solve(var=f, solver=DummySolver(), dt=t)\n",
    "solution[i] = f\n",
    "\n",
    "\n",
    "print(solution[0].value)\n",
    "print(solution[1].value)\n",
    "viewer = Viewer(vars=f)\n",
    "viewer = Viewer(vars=solution)"
   ]
  },
  {
   "cell_type": "code",
   "execution_count": null,
   "metadata": {},
   "outputs": [],
   "source": []
  }
 ],
 "metadata": {
  "kernelspec": {
   "display_name": "Python 3",
   "language": "python",
   "name": "python3"
  },
  "language_info": {
   "codemirror_mode": {
    "name": "ipython",
    "version": 3
   },
   "file_extension": ".py",
   "mimetype": "text/x-python",
   "name": "python",
   "nbconvert_exporter": "python",
   "pygments_lexer": "ipython3",
   "version": "3.8.5"
  }
 },
 "nbformat": 4,
 "nbformat_minor": 4
}
