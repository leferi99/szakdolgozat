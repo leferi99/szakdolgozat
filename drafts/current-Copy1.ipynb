{
 "cells": [
  {
   "cell_type": "code",
   "execution_count": 36,
   "metadata": {},
   "outputs": [],
   "source": [
    "from fipy import *\n",
    "from fipy.tools import numerix\n",
    "import matplotlib.pyplot as plt"
   ]
  },
  {
   "cell_type": "code",
   "execution_count": 37,
   "metadata": {},
   "outputs": [
    {
     "name": "stdout",
     "output_type": "stream",
     "text": [
      "101\n"
     ]
    }
   ],
   "source": [
    "R = 10.  ## teljes hossz, amire lefut a program\n",
    "nx = 20  ## ennyi részre lesz felosztva\n",
    "dr = R / nx\n",
    "mesh = Grid1D(dx=dr, nx=nx)  ## új mesh nx számú dx széles lépésközzel\n",
    "\n",
    "## diffúziós és konvekciós együtthatók\n",
    "# diffCoeff = numerix.sin(mesh.x)\n",
    "# convCoeff = (numerix.cos(mesh.x) ** 2, )  ## vektornak kell lennie\n",
    "diffCoeff = 1.\n",
    "convCoeff = [1.,]\n",
    "sourceCoeff = 1.\n",
    "\n",
    "## sugár és Jacobi bevezetése\n",
    "# r = 0.\n",
    "# J = 1.  ## kell egyáltalán?\n",
    "\n",
    "## idő bevezetése\n",
    "duration = Variable(10.)\n",
    "dt = Variable(0.1)\n",
    "t = Variable(0.)\n",
    "imax = int((duration.value / dt.value) + 1)\n",
    "i = 0\n",
    "print(imax)\n",
    "\n",
    "## határfeltételekhez adatok\n",
    "valueLeft = 1.\n",
    "gradLeft = (0.,)\n",
    "valueRight = 0.\n",
    "\n",
    "## \"megoldási változó\" - sűrűségfv\n",
    "f = CellVariable(mesh=mesh, name=\"sűrűségfv\", value=1.) # kezdeti feltétel az egész tartományra\n",
    "f.setValue(10., where= mesh.x == R/2)\n",
    "\n",
    "## határfeltételek érvényesítése\n",
    "f.constrain(valueLeft, mesh.facesLeft)\n",
    "f.faceGrad.constrain(gradLeft, where=mesh.facesLeft)\n",
    "f.constrain(valueRight, mesh.facesRight)"
   ]
  },
  {
   "cell_type": "code",
   "execution_count": 38,
   "metadata": {},
   "outputs": [
    {
     "name": "stdout",
     "output_type": "stream",
     "text": [
      "2.503906269559874\n",
      "4.675387559416962 \n",
      "\n",
      "[2.50390627 4.67538756 5.81432067 6.33086427 6.47093294 6.38183138\n",
      " 6.15179975 5.83378719 5.45970584 5.04895105 4.61347622 4.1608038\n",
      " 3.69580451 3.22174458 2.74090055 2.25492008 1.76503483 1.27218779\n",
      " 0.77711154 0.28037861]\n",
      "[2.50390627 4.67538756 5.81432067 6.33086427 6.47093294 6.38183138\n",
      " 6.15179975 5.83378719 5.45970584 5.04895105 4.61347622 4.1608038\n",
      " 3.69580451 3.22174458 2.74090055 2.25492008 1.76503483 1.27218779\n",
      " 0.77711154 0.28037861]\n"
     ]
    },
    {
     "name": "stderr",
     "output_type": "stream",
     "text": [
      "C:\\ProgramData\\Anaconda3\\lib\\site-packages\\fipy\\viewers\\matplotlibViewer\\__init__.py:120: UserWarning: Matplotlib1DViewer efficiency is improved by setting the 'datamax' and 'datamin' keys\n",
      "  return Matplotlib1DViewer(vars=vars, title=title, axes=axes, **kwlimits)\n"
     ]
    },
    {
     "data": {
      "image/png": "[encoded data removed]",
      "text/plain": [
       "<Figure size 288x288 with 1 Axes>"
      ]
     },
     "metadata": {
      "needs_background": "light"
     },
     "output_type": "display_data"
    }
   ],
   "source": [
    "## az egyenlet alakja FiPy-ban az együtthatókkal\n",
    "eq = (TransientTerm() == DiffusionTerm(coeff=diffCoeff)\n",
    "      + PowerLawConvectionTerm(coeff=convCoeff)\n",
    "      + sourceCoeff)\n",
    "\n",
    "# solution1D = numerix.empty(imax, CellVariable)  # 1D üres numpy array\n",
    "solution1D = []\n",
    "\n",
    "\n",
    "while i != imax:\n",
    "    eq.solve(var=f, solver=DummySolver(iterations=1), dt=dt)\n",
    "    solution1D.append(f)\n",
    "    # solution2D[i] = t.value\n",
    "    # t.setValue = t.value + dt\n",
    "    i += 1\n",
    "\n",
    "print(f.value[0])\n",
    "print(f.value[1], \"\\n\")\n",
    "print(solution1D[0].value)\n",
    "print(solution1D[100].value)\n",
    "viewer = Viewer(vars=f, datamin=0)\n",
    "\n",
    "\n",
    "\n",
    "#viewer1 = Viewer(vars=solution2D[1])\n",
    "#viewer2 = Viewer(vars=solution2D[99])"
   ]
  },
  {
   "cell_type": "code",
   "execution_count": null,
   "metadata": {},
   "outputs": [],
   "source": []
  }
 ],
 "metadata": {
  "kernelspec": {
   "display_name": "Python 3",
   "language": "python",
   "name": "python3"
  },
  "language_info": {
   "codemirror_mode": {
    "name": "ipython",
    "version": 3
   },
   "file_extension": ".py",
   "mimetype": "text/x-python",
   "name": "python",
   "nbconvert_exporter": "python",
   "pygments_lexer": "ipython3",
   "version": "3.8.5"
  }
 },
 "nbformat": 4,
 "nbformat_minor": 4
}
